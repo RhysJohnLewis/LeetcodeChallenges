{
 "cells": [
  {
   "cell_type": "code",
   "execution_count": 268,
   "id": "42805d2c",
   "metadata": {},
   "outputs": [],
   "source": [
    "      "
   ]
  },
  {
   "cell_type": "code",
   "execution_count": 269,
   "id": "ab53b237",
   "metadata": {},
   "outputs": [
    {
     "data": {
      "text/plain": [
       "[[2, 5], [3, 4]]"
      ]
     },
     "execution_count": 269,
     "metadata": {},
     "output_type": "execute_result"
    }
   ],
   "source": []
  },
  {
   "cell_type": "code",
   "execution_count": 300,
   "id": "bd769b86",
   "metadata": {},
   "outputs": [],
   "source": [
    "#Solution\n",
    "class Solution():\n",
    "    \n",
    "    def __init__(self, nums, target):\n",
    "        self.nums = nums\n",
    "        self.target = target\n",
    "    \n",
    "    def twoSum(self):\n",
    "        #create blank list\n",
    "        mylist = []\n",
    "        # get all numbers in the list\n",
    "        for a in range(len(self.nums)):\n",
    "            #for every number in the list, cycle through all numbers starting from 1 after that number\n",
    "            for b in range(a+1, len(self.nums)):\n",
    "                #add the two corresponding numbers together and see if they equal target\n",
    "                if (self.nums[a] + self.nums[b]) == self.target:\n",
    "                    #append to blank list\n",
    "                    mylist.append([self.nums[a], self.nums[b]])\n",
    "        #return mylist\n",
    "        mylist = mylist[0]\n",
    "        return mylist   "
   ]
  },
  {
   "cell_type": "code",
   "execution_count": 301,
   "id": "34e0ec3f",
   "metadata": {},
   "outputs": [
    {
     "data": {
      "text/plain": [
       "[[1, 5], [2, 4]]"
      ]
     },
     "execution_count": 301,
     "metadata": {},
     "output_type": "execute_result"
    }
   ],
   "source": [
    "twoSum([1,2,3,4,5], 6)"
   ]
  },
  {
   "cell_type": "code",
   "execution_count": 302,
   "id": "8191b6ae",
   "metadata": {},
   "outputs": [
    {
     "data": {
      "text/plain": [
       "[[2, 7]]"
      ]
     },
     "execution_count": 302,
     "metadata": {},
     "output_type": "execute_result"
    }
   ],
   "source": [
    "test.twoSum()"
   ]
  },
  {
   "cell_type": "code",
   "execution_count": 317,
   "id": "8dfc6f55",
   "metadata": {},
   "outputs": [],
   "source": [
    "#Solution for leetcode - Without encapsulation\n",
    "\n",
    "from typing import List\n",
    "\n",
    "class Solution:\n",
    "    def twoSum(self, nums: List[int], target: int) -> List[int]:\n",
    "        #create blank list\n",
    "        mylist = []\n",
    "        # get all numbers in the list\n",
    "        for a in range(len(nums)):\n",
    "            #for every number in the list, cycle through all numbers starting from 1 after that number\n",
    "            for b in range(a+1, len(nums)):\n",
    "                #add the two corresponding numbers together and see if they equal target\n",
    "                if (nums[a] + nums[b]) == target:\n",
    "                    #append to blank list\n",
    "                    mylist.append([nums[a], nums[b]])\n",
    "        #I would return mylist, but the question says there is only 1 answer\n",
    "        oneanswer = mylist[0]\n",
    "        return oneanswer  \n",
    "    \n",
    "    # almost have it, just need to now return the indices of the values, not the values themselves"
   ]
  },
  {
   "cell_type": "code",
   "execution_count": 318,
   "id": "9573845e",
   "metadata": {},
   "outputs": [
    {
     "data": {
      "text/plain": [
       "[]"
      ]
     },
     "execution_count": 318,
     "metadata": {},
     "output_type": "execute_result"
    }
   ],
   "source": [
    "twoSum([2,3,11,15], 9)"
   ]
  },
  {
   "cell_type": "code",
   "execution_count": null,
   "id": "a6d3bd3b",
   "metadata": {},
   "outputs": [],
   "source": []
  },
  {
   "cell_type": "code",
   "execution_count": null,
   "id": "acb809db",
   "metadata": {},
   "outputs": [],
   "source": []
  }
 ],
 "metadata": {
  "kernelspec": {
   "display_name": "Python 3 (ipykernel)",
   "language": "python",
   "name": "python3"
  },
  "language_info": {
   "codemirror_mode": {
    "name": "ipython",
    "version": 3
   },
   "file_extension": ".py",
   "mimetype": "text/x-python",
   "name": "python",
   "nbconvert_exporter": "python",
   "pygments_lexer": "ipython3",
   "version": "3.9.12"
  }
 },
 "nbformat": 4,
 "nbformat_minor": 5
}
